{
 "cells": [
  {
   "attachments": {},
   "cell_type": "markdown",
   "metadata": {},
   "source": [
    "To predict the power output of solar panels in Egypt, we will follow these steps:\n",
    "\n",
    "1. Frame the problem\n",
    "2. Acquire the data\n",
    "3. Explore the data\n",
    "4. Pre-process the data\n",
    "5. Select and train models\n",
    "6. Evaluate and fine-tune the models\n",
    "7. Analyze results and report\n",
    "\n",
    "---\n",
    "1. Frame the problem\n",
    "Our goal is to predict the power output of solar panels in Egypt based on recent climate features.\n",
    "\n",
    "2. Acquire the data\n",
    "The dataset provided contains the following columns:\n",
    "- Date\n",
    "- AvgTemperature\n",
    "- AverageDew (point via humidity)\n",
    "- Humidity\n",
    "- Wind\n",
    "- Pressure\n",
    "- Solar(PV)\n",
    "\n",
    "3. Explore the data\n",
    "We'll perform exploratory data analysis (EDA) to identify trends, correlations, outliers, and missing values.\n",
    "\n",
    "4. Pre-process the data\n",
    "Based on the EDA, we'll clean and preprocess the data. This may involve:\n",
    "- Handling missing values\n",
    "- Feature scaling\n",
    "- Encoding categorical variables\n",
    "- Feature engineering\n",
    "\n",
    "5. Select and train models\n",
    "We'll experiment with different machine learning algorithms, such as:\n",
    "- Linear regression\n",
    "- Decision trees\n",
    "- Random forests\n",
    "- Support vector machines\n",
    "- Neural networks\n",
    "\n",
    "6. Evaluate and fine-tune the models\n",
    "We'll evaluate each model using cross-validation and select the best one. Then, we'll fine-tune the model's hyperparameters using grid search or random search.\n",
    "\n",
    "7. Analyze results and report\n",
    "Finally, we'll analyze the results of the best model and report its performance.\n",
    "\n",
    "Here's a Python code implementation of the above process:\n",
    "\n",
    "```python\n",
    "\n",
    "\n",
    "\n",
    "Please note that this is a sample implementation and may need adjustments based on the actual dataset and problem requirements."
   ]
  },
  {
   "cell_type": "code",
   "execution_count": 1,
   "metadata": {},
   "outputs": [],
   "source": [
    "import pandas as pd\n",
    "import numpy as np\n",
    "from sklearn.model_selection import train_test_split, cross_val_score\n",
    "from sklearn.preprocessing import StandardScaler\n",
    "from sklearn.linear_model import LinearRegression\n",
    "from sklearn.tree import DecisionTreeRegressor\n",
    "from sklearn.ensemble import RandomForestRegressor\n",
    "from sklearn.svm import SVR\n",
    "from sklearn.neural_network import MLPRegressor\n",
    "from sklearn.metrics import mean_squared_error"
   ]
  },
  {
   "cell_type": "code",
   "execution_count": 2,
   "metadata": {},
   "outputs": [],
   "source": [
    "data = pd.read_csv(\"AswanData_weatherdata.csv\")"
   ]
  },
  {
   "cell_type": "code",
   "execution_count": 3,
   "metadata": {},
   "outputs": [],
   "source": [
    "# Parse date and extract month and day as features\n",
    "data['Date'] = pd.to_datetime(data['Date'])\n",
    "data['Month'] = data['Date'].dt.month\n",
    "data['Day'] = data['Date'].dt.day"
   ]
  },
  {
   "cell_type": "code",
   "execution_count": 4,
   "metadata": {},
   "outputs": [],
   "source": [
    "# Drop date column\n",
    "data = data.drop(columns=['Date'])\n",
    "data = data.drop(columns=\"I\")"
   ]
  },
  {
   "cell_type": "code",
   "execution_count": 5,
   "metadata": {},
   "outputs": [
    {
     "data": {
      "text/html": [
       "<div>\n",
       "<style scoped>\n",
       "    .dataframe tbody tr th:only-of-type {\n",
       "        vertical-align: middle;\n",
       "    }\n",
       "\n",
       "    .dataframe tbody tr th {\n",
       "        vertical-align: top;\n",
       "    }\n",
       "\n",
       "    .dataframe thead th {\n",
       "        text-align: right;\n",
       "    }\n",
       "</style>\n",
       "<table border=\"1\" class=\"dataframe\">\n",
       "  <thead>\n",
       "    <tr style=\"text-align: right;\">\n",
       "      <th></th>\n",
       "      <th>AvgTemperture</th>\n",
       "      <th>AverageDew(point via humidity)</th>\n",
       "      <th>Humidity</th>\n",
       "      <th>Wind</th>\n",
       "      <th>Pressure</th>\n",
       "      <th>Solar(PV)</th>\n",
       "      <th>Month</th>\n",
       "      <th>Day</th>\n",
       "    </tr>\n",
       "  </thead>\n",
       "  <tbody>\n",
       "    <tr>\n",
       "      <th>0</th>\n",
       "      <td>87.9</td>\n",
       "      <td>31.3</td>\n",
       "      <td>13.4</td>\n",
       "      <td>5.7</td>\n",
       "      <td>29.2</td>\n",
       "      <td>19.010857</td>\n",
       "      <td>4</td>\n",
       "      <td>1</td>\n",
       "    </tr>\n",
       "    <tr>\n",
       "      <th>1</th>\n",
       "      <td>90.2</td>\n",
       "      <td>34.0</td>\n",
       "      <td>14.2</td>\n",
       "      <td>6.6</td>\n",
       "      <td>29.1</td>\n",
       "      <td>16.885714</td>\n",
       "      <td>4</td>\n",
       "      <td>3</td>\n",
       "    </tr>\n",
       "    <tr>\n",
       "      <th>2</th>\n",
       "      <td>93.2</td>\n",
       "      <td>31.4</td>\n",
       "      <td>11.8</td>\n",
       "      <td>8.8</td>\n",
       "      <td>29.1</td>\n",
       "      <td>19.627429</td>\n",
       "      <td>4</td>\n",
       "      <td>4</td>\n",
       "    </tr>\n",
       "    <tr>\n",
       "      <th>3</th>\n",
       "      <td>92.5</td>\n",
       "      <td>24.9</td>\n",
       "      <td>9.4</td>\n",
       "      <td>8.0</td>\n",
       "      <td>29.1</td>\n",
       "      <td>18.929429</td>\n",
       "      <td>4</td>\n",
       "      <td>5</td>\n",
       "    </tr>\n",
       "    <tr>\n",
       "      <th>4</th>\n",
       "      <td>91.2</td>\n",
       "      <td>18.9</td>\n",
       "      <td>7.8</td>\n",
       "      <td>9.4</td>\n",
       "      <td>29.2</td>\n",
       "      <td>18.934000</td>\n",
       "      <td>4</td>\n",
       "      <td>6</td>\n",
       "    </tr>\n",
       "  </tbody>\n",
       "</table>\n",
       "</div>"
      ],
      "text/plain": [
       "   AvgTemperture  AverageDew(point via humidity)  Humidity  Wind  Pressure  \\\n",
       "0           87.9                            31.3      13.4   5.7      29.2   \n",
       "1           90.2                            34.0      14.2   6.6      29.1   \n",
       "2           93.2                            31.4      11.8   8.8      29.1   \n",
       "3           92.5                            24.9       9.4   8.0      29.1   \n",
       "4           91.2                            18.9       7.8   9.4      29.2   \n",
       "\n",
       "   Solar(PV)  Month  Day  \n",
       "0  19.010857      4    1  \n",
       "1  16.885714      4    3  \n",
       "2  19.627429      4    4  \n",
       "3  18.929429      4    5  \n",
       "4  18.934000      4    6  "
      ]
     },
     "execution_count": 5,
     "metadata": {},
     "output_type": "execute_result"
    }
   ],
   "source": [
    "data.head()"
   ]
  },
  {
   "cell_type": "code",
   "execution_count": 6,
   "metadata": {},
   "outputs": [],
   "source": [
    "# Train-test split\n",
    "train_set, test_set = train_test_split(data, test_size=0.2, random_state=42)"
   ]
  },
  {
   "cell_type": "code",
   "execution_count": 7,
   "metadata": {},
   "outputs": [],
   "source": [
    "# Separate features and labels\n",
    "X_train = train_set.drop(columns=['Solar(PV)'])\n",
    "y_train = train_set['Solar(PV)']\n",
    "X_test = test_set.drop(columns=['Solar(PV)'])\n",
    "y_test = test_set['Solar(PV)']"
   ]
  },
  {
   "cell_type": "code",
   "execution_count": 8,
   "metadata": {},
   "outputs": [],
   "source": [
    "# Scale the data\n",
    "scaler = StandardScaler()\n",
    "X_train_scaled = scaler.fit_transform(X_train)\n",
    "X_test_scaled = scaler.transform(X_test)"
   ]
  },
  {
   "cell_type": "code",
   "execution_count": 9,
   "metadata": {},
   "outputs": [],
   "source": [
    "# List of models to try\n",
    "models = [\n",
    "    LinearRegression(),\n",
    "    DecisionTreeRegressor(),\n",
    "    RandomForestRegressor(),\n",
    "    SVR(),\n",
    "    MLPRegressor(max_iter=500)\n",
    "]"
   ]
  },
  {
   "cell_type": "code",
   "execution_count": 10,
   "metadata": {},
   "outputs": [
    {
     "name": "stdout",
     "output_type": "stream",
     "text": [
      "LinearRegression RMSE: 7.226721085265805\n",
      "DecisionTreeRegressor RMSE: 4.8691907312341165\n",
      "RandomForestRegressor RMSE: 3.9511377085879\n",
      "SVR RMSE: 6.118709520007876\n",
      "MLPRegressor RMSE: 7.031586883242637\n"
     ]
    },
    {
     "name": "stderr",
     "output_type": "stream",
     "text": [
      "c:\\ProgramData\\anaconda3\\lib\\site-packages\\sklearn\\neural_network\\_multilayer_perceptron.py:684: ConvergenceWarning: Stochastic Optimizer: Maximum iterations (500) reached and the optimization hasn't converged yet.\n",
      "  warnings.warn(\n"
     ]
    }
   ],
   "source": [
    "# Train and evaluate each model\n",
    "for model in models:\n",
    "    model.fit(X_train_scaled, y_train)\n",
    "    y_pred = model.predict(X_test_scaled)\n",
    "    mse = mean_squared_error(y_test, y_pred)\n",
    "    rmse = np.sqrt(mse)\n",
    "    print(f\"{model.__class__.__name__} RMSE: {rmse}\")"
   ]
  },
  {
   "cell_type": "code",
   "execution_count": null,
   "metadata": {},
   "outputs": [],
   "source": []
  }
 ],
 "metadata": {
  "kernelspec": {
   "display_name": "Python 3",
   "language": "python",
   "name": "python3"
  },
  "language_info": {
   "codemirror_mode": {
    "name": "ipython",
    "version": 3
   },
   "file_extension": ".py",
   "mimetype": "text/x-python",
   "name": "python",
   "nbconvert_exporter": "python",
   "pygments_lexer": "ipython3",
   "version": "3.10.9"
  },
  "orig_nbformat": 4
 },
 "nbformat": 4,
 "nbformat_minor": 2
}
